{
 "cells": [
  {
   "cell_type": "code",
   "execution_count": null,
   "id": "311dd412-f571-4d74-a055-516b673fef26",
   "metadata": {},
   "outputs": [],
   "source": [
    "import pandas as pd\n",
    "import seaborn as sns\n",
    "from sklearn.model_selection import train_test_split\n",
    "from sklearn.ensemble import RandomForestClassifier\n",
    "from sklearn.metrics import accuracy_score, classification_report\n",
    "t = sns.load_dataset('titanic')\n",
    "t.dropna(subset=['age', 'fare'], inplace=True)\n",
    "t['embarked'].fillna(t['embarked'].mode()[0], inplace=True)\n",
    "t = pd.get_dummies(t, columns=['sex', 'class', 'embarked', 'who', 'adult_male', 'alone'], drop_first=True)\n",
    "features = ['age', 'fare', 'sex_male', 'class_Second', 'class_Third', 'alone_True']\n",
    "X = t[features]\n",
    "y = t['survived']\n",
    "X_train, X_test, y_train, y_test = train_test_split(X, y, test_size=0.5, random_state=45)\n",
    "cf = RandomForestClassifier(random_state=45)\n",
    "cf.fit(X_train, y_train)\n",
    "y_pred = cf.predict(X_test)\n",
    "accuracy = accuracy_score(y_test, y_pred)\n",
    "print(\"Accuracy:\", accuracy)\n",
    "print(classification_report(y_test, y_pred))"
   ]
  }
 ],
 "metadata": {
  "kernelspec": {
   "display_name": "Python 3 (ipykernel)",
   "language": "python",
   "name": "python3"
  },
  "language_info": {
   "codemirror_mode": {
    "name": "ipython",
    "version": 3
   },
   "file_extension": ".py",
   "mimetype": "text/x-python",
   "name": "python",
   "nbconvert_exporter": "python",
   "pygments_lexer": "ipython3",
   "version": "3.12.0"
  }
 },
 "nbformat": 4,
 "nbformat_minor": 5
}
